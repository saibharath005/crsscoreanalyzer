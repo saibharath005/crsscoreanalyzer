{
 "cells": [
  {
   "cell_type": "code",
   "execution_count": 1,
   "id": "6cc1526b",
   "metadata": {},
   "outputs": [],
   "source": [
    "import pandas as pd\n",
    "import matplotlib.pyplot as plt\n",
    "import ipywidgets as widgets\n",
    "from IPython.display import display"
   ]
  },
  {
   "cell_type": "markdown",
   "id": "aecc9a76",
   "metadata": {},
   "source": [
    "### Data Processor"
   ]
  },
  {
   "cell_type": "code",
   "execution_count": 2,
   "id": "c6f4e6a3",
   "metadata": {},
   "outputs": [],
   "source": [
    "df = pd.read_excel(r\"CRS_Data.xlsx\")\n",
    "df['Date'] = pd.to_datetime(df['Date'])\n",
    "df['year'] = df['Date'].dt.year\n",
    "df['month'] = df['Date'].dt.month\n",
    "df = df.rename(columns={\"Round_Type\": \"category\", \"Score\": \"value\"})"
   ]
  },
  {
   "cell_type": "markdown",
   "id": "80d62aca",
   "metadata": {},
   "source": [
    "### Data Transformer"
   ]
  },
  {
   "cell_type": "code",
   "execution_count": 3,
   "id": "4cc32db8",
   "metadata": {},
   "outputs": [
    {
     "name": "stdout",
     "output_type": "stream",
     "text": [
      "     year month                              category value     \n",
      "                                                        min  max\n",
      "0    2015     1                  No Program Specified   886  886\n",
      "1    2015     2             Canadian Experience Class   808  808\n",
      "2    2015     2                  No Program Specified   735  818\n",
      "3    2015     3                  No Program Specified   453  481\n",
      "4    2015     4                  No Program Specified   453  469\n",
      "..    ...   ...                                   ...   ...  ...\n",
      "151  2023    12  French language proficiency (2023-1)   470  470\n",
      "152  2023    12                               General   542  561\n",
      "153  2023    12             STEM occupations (2023-1)   481  481\n",
      "154  2023    12            Trade occupations (2023-1)   425  425\n",
      "155  2023    12        Transport occupations (2023-1)   435  435\n",
      "\n",
      "[156 rows x 5 columns]\n"
     ]
    }
   ],
   "source": [
    "# Group by 'year', 'month', and 'category' and calculate min and max values\n",
    "result = df.groupby(['year', 'month', 'category']).agg({'value': ['min', 'max']})\n",
    "\n",
    "# Reset index to make the grouped columns regular columns\n",
    "result = result.reset_index()\n",
    "\n",
    "print(result)\n"
   ]
  },
  {
   "cell_type": "markdown",
   "id": "0cf30e15",
   "metadata": {},
   "source": [
    "### Data Visualizer"
   ]
  },
  {
   "cell_type": "code",
   "execution_count": 4,
   "id": "0ab3d85f",
   "metadata": {},
   "outputs": [],
   "source": [
    "# Create dropdown widgets for selecting the year, month, and category\n",
    "# years = result['year'].unique().tolist()\n",
    "# months = result['Month'].unique().tolist()\n",
    "categories = result['category'].unique().tolist()\n",
    "\n",
    "# dropdown_year = widgets.Dropdown(options=years, description='Select Year:')\n",
    "# dropdown_month = widgets.Dropdown(options=months, description='Select Month:')\n",
    "dropdown_category = widgets.SelectMultiple(options=categories, description='Select Category:')"
   ]
  },
  {
   "cell_type": "code",
   "execution_count": 5,
   "id": "b3c19f81",
   "metadata": {},
   "outputs": [],
   "source": [
    "# # Function to update the plot based on the selected year and category\n",
    "# def update_plot(year, category):\n",
    "#     filtered_data = result[(result['year'] == year) & (result['category'].isin(category))]\n",
    "    \n",
    "    \n",
    "#     # Plotting\n",
    "#     fig, ax = plt.subplots(figsize=(12, 8))\n",
    "#     for cat in filtered_data['category'].unique():\n",
    "#         subset = filtered_data[filtered_data['category'] == cat]\n",
    "#         x_vals = subset.apply(lambda row: pd.Timestamp(f\"{int(row['year'])}-{int(row['month']):02d}-01\"), axis=1)\n",
    "#         ax.plot(x_vals, subset['value']['min'], marker='o', label=f'{cat} (min)')\n",
    "#         ax.plot(x_vals, subset['value']['max'], marker='o', label=f'{cat} (max)')\n",
    "    \n",
    "#     # Annotate min values\n",
    "#     for i, val in enumerate(subset['value']['min']):\n",
    "#         ax.text(x_vals.iloc[i], val, f'{val}', ha='right', va='bottom')\n",
    "\n",
    "#     # Annotate max values\n",
    "#     for i, val in enumerate(subset['value']['max']):\n",
    "#         ax.text(x_vals.iloc[i], val, f'{val}', ha='left', va='top')\n",
    "\n",
    "#     # Customize labels and legend\n",
    "#     ax.set_xlabel('Date')\n",
    "#     ax.set_ylabel('Value')\n",
    "#     ax.set_title(f'Minimum and Maximum Values by Category for {year}')\n",
    "#     ax.legend()\n",
    "#     plt.tight_layout()\n",
    "#     plt.show()\n",
    "\n",
    "# # Display the dropdowns and plot\n",
    "# # display(dropdown_year)\n",
    "# # display(dropdown_category)\n",
    "# widgets.interactive(update_plot, year=dropdown_year, category=dropdown_category)\n"
   ]
  },
  {
   "cell_type": "code",
   "execution_count": 7,
   "id": "30e0d45c",
   "metadata": {},
   "outputs": [
    {
     "data": {
      "application/vnd.jupyter.widget-view+json": {
       "model_id": "e865b7e6a85349689302b6c6b48af99f",
       "version_major": 2,
       "version_minor": 0
      },
      "text/plain": [
       "interactive(children=(SelectMultiple(description='Select Category:', options=('No Program Specified', 'Canadia…"
      ]
     },
     "metadata": {},
     "output_type": "display_data"
    }
   ],
   "source": [
    "# Function to update the plot based on the selected category\n",
    "def update_plot(category):\n",
    "    filtered_data = result[result['category'].isin(category)]\n",
    "    \n",
    "    # Plotting\n",
    "    fig, ax = plt.subplots(figsize=(20, 6))\n",
    "    for year in filtered_data['year'].unique():\n",
    "        subset = filtered_data[filtered_data['year'] == year]\n",
    "        x_vals = subset.apply(lambda row: pd.Timestamp(f\"{int(row['year'])}-{int(row['month']):02d}-01\"), axis=1)\n",
    "        ax.plot(x_vals, subset['value']['min'], marker='o', label=f'{year} (min)')\n",
    "        ax.plot(x_vals, subset['value']['max'], marker='o', label=f'{year} (max)')\n",
    "        \n",
    "        # Annotate min values\n",
    "        for i, val in enumerate(subset['value']['min']):\n",
    "            ax.text(x_vals.iloc[i], val, f'{val}', ha='right', va='bottom')\n",
    "            \n",
    "        # Annotate max values\n",
    "        for i, val in enumerate(subset['value']['max']):\n",
    "            ax.text(x_vals.iloc[i], val, f'{val}', ha='left', va='top')\n",
    "\n",
    "    # Customize labels and legend\n",
    "    ax.set_xlabel('Date')\n",
    "    ax.set_ylabel('value')\n",
    "    ax.set_title(f'Minimum and Maximum Values for Category {category}')\n",
    "    ax.legend()\n",
    "    plt.tight_layout()\n",
    "    plt.show()\n",
    "\n",
    "# Display the dropdown and plot\n",
    "# display(dropdown_category)\n",
    "widgets.interactive(update_plot, category=dropdown_category)\n"
   ]
  },
  {
   "cell_type": "code",
   "execution_count": null,
   "id": "e9dd2d3f",
   "metadata": {},
   "outputs": [],
   "source": []
  }
 ],
 "metadata": {
  "kernelspec": {
   "display_name": "Python 3 (ipykernel)",
   "language": "python",
   "name": "python3"
  },
  "language_info": {
   "codemirror_mode": {
    "name": "ipython",
    "version": 3
   },
   "file_extension": ".py",
   "mimetype": "text/x-python",
   "name": "python",
   "nbconvert_exporter": "python",
   "pygments_lexer": "ipython3",
   "version": "3.9.13"
  }
 },
 "nbformat": 4,
 "nbformat_minor": 5
}
