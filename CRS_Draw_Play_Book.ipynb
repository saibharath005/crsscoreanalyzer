{
  "cells": [
    {
      "cell_type": "markdown",
      "metadata": {
        "id": "view-in-github",
        "colab_type": "text"
      },
      "source": [
        "<a href=\"https://colab.research.google.com/github/saibharath005/crsscoreanalyzer/blob/main/CRS_Draw_Play_Book.ipynb\" target=\"_parent\"><img src=\"https://colab.research.google.com/assets/colab-badge.svg\" alt=\"Open In Colab\"/></a>"
      ]
    },
    {
      "cell_type": "code",
      "execution_count": null,
      "id": "6cc1526b",
      "metadata": {
        "id": "6cc1526b"
      },
      "outputs": [],
      "source": [
        "import pandas as pd\n",
        "import matplotlib.pyplot as plt\n",
        "import ipywidgets as widgets\n",
        "from IPython.display import display"
      ]
    },
    {
      "cell_type": "markdown",
      "id": "aecc9a76",
      "metadata": {
        "id": "aecc9a76"
      },
      "source": [
        "### Data Processor"
      ]
    },
    {
      "cell_type": "code",
      "execution_count": null,
      "id": "c6f4e6a3",
      "metadata": {
        "id": "c6f4e6a3"
      },
      "outputs": [],
      "source": [
        "df = pd.read_excel(r\"CRS_Data.xlsx\")\n",
        "df['Date'] = pd.to_datetime(df['Date'])\n",
        "df['year'] = df['Date'].dt.year\n",
        "df['month'] = df['Date'].dt.month\n",
        "df = df.rename(columns={\"Round_Type\": \"category\", \"Score\": \"value\"})"
      ]
    },
    {
      "cell_type": "markdown",
      "id": "80d62aca",
      "metadata": {
        "id": "80d62aca"
      },
      "source": [
        "### Data Transformer"
      ]
    },
    {
      "cell_type": "code",
      "execution_count": null,
      "id": "4cc32db8",
      "metadata": {
        "colab": {
          "base_uri": "https://localhost:8080/"
        },
        "id": "4cc32db8",
        "outputId": "5dafa596-cadb-4a35-f299-db48d934e2ec"
      },
      "outputs": [
        {
          "output_type": "stream",
          "name": "stdout",
          "text": [
            "     year month                              category value     \n",
            "                                                        min  max\n",
            "0    2015     1                  No Program Specified   886  886\n",
            "1    2015     2             Canadian Experience Class   808  808\n",
            "2    2015     2                  No Program Specified   735  818\n",
            "3    2015     3                  No Program Specified   453  481\n",
            "4    2015     4                  No Program Specified   453  469\n",
            "..    ...   ...                                   ...   ...  ...\n",
            "151  2023    12  French language proficiency (2023-1)   470  470\n",
            "152  2023    12                               General   542  561\n",
            "153  2023    12             STEM occupations (2023-1)   481  481\n",
            "154  2023    12            Trade occupations (2023-1)   425  425\n",
            "155  2023    12        Transport occupations (2023-1)   435  435\n",
            "\n",
            "[156 rows x 5 columns]\n"
          ]
        }
      ],
      "source": [
        "# Group by 'year', 'month', and 'category' and calculate min and max values\n",
        "result = df.groupby(['year', 'month', 'category']).agg({'value': ['min', 'max']})\n",
        "\n",
        "# Reset index to make the grouped columns regular columns\n",
        "result = result.reset_index()\n",
        "\n",
        "print(result)\n"
      ]
    },
    {
      "cell_type": "markdown",
      "id": "0cf30e15",
      "metadata": {
        "id": "0cf30e15"
      },
      "source": [
        "### Data Visualizer"
      ]
    },
    {
      "cell_type": "code",
      "execution_count": null,
      "id": "0ab3d85f",
      "metadata": {
        "id": "0ab3d85f"
      },
      "outputs": [],
      "source": [
        "# Create dropdown widgets for selecting the year, month, and category\n",
        "# years = result['year'].unique().tolist()\n",
        "# months = result['Month'].unique().tolist()\n",
        "categories = result['category'].unique().tolist()\n",
        "\n",
        "# dropdown_year = widgets.Dropdown(options=years, description='Select Year:')\n",
        "# dropdown_month = widgets.Dropdown(options=months, description='Select Month:')\n",
        "dropdown_category = widgets.SelectMultiple(options=categories, description='Select Category:')"
      ]
    },
    {
      "cell_type": "code",
      "execution_count": null,
      "id": "b3c19f81",
      "metadata": {
        "id": "b3c19f81"
      },
      "outputs": [],
      "source": [
        "# # Function to update the plot based on the selected year and category\n",
        "# def update_plot(year, category):\n",
        "#     filtered_data = result[(result['year'] == year) & (result['category'].isin(category))]\n",
        "\n",
        "\n",
        "#     # Plotting\n",
        "#     fig, ax = plt.subplots(figsize=(12, 8))\n",
        "#     for cat in filtered_data['category'].unique():\n",
        "#         subset = filtered_data[filtered_data['category'] == cat]\n",
        "#         x_vals = subset.apply(lambda row: pd.Timestamp(f\"{int(row['year'])}-{int(row['month']):02d}-01\"), axis=1)\n",
        "#         ax.plot(x_vals, subset['value']['min'], marker='o', label=f'{cat} (min)')\n",
        "#         ax.plot(x_vals, subset['value']['max'], marker='o', label=f'{cat} (max)')\n",
        "\n",
        "#     # Annotate min values\n",
        "#     for i, val in enumerate(subset['value']['min']):\n",
        "#         ax.text(x_vals.iloc[i], val, f'{val}', ha='right', va='bottom')\n",
        "\n",
        "#     # Annotate max values\n",
        "#     for i, val in enumerate(subset['value']['max']):\n",
        "#         ax.text(x_vals.iloc[i], val, f'{val}', ha='left', va='top')\n",
        "\n",
        "#     # Customize labels and legend\n",
        "#     ax.set_xlabel('Date')\n",
        "#     ax.set_ylabel('Value')\n",
        "#     ax.set_title(f'Minimum and Maximum Values by Category for {year}')\n",
        "#     ax.legend()\n",
        "#     plt.tight_layout()\n",
        "#     plt.show()\n",
        "\n",
        "# # Display the dropdowns and plot\n",
        "# # display(dropdown_year)\n",
        "# # display(dropdown_category)\n",
        "# widgets.interactive(update_plot, year=dropdown_year, category=dropdown_category)\n"
      ]
    },
    {
      "cell_type": "code",
      "execution_count": null,
      "id": "30e0d45c",
      "metadata": {
        "colab": {
          "base_uri": "https://localhost:8080/",
          "height": 453,
          "referenced_widgets": [
            "344da346458a4edd83c5a9124919b2a7",
            "f5375a7dfc3a4352bd1a9008ce7d121c",
            "b5e89a9dd18b48928cb9cc88e355bc4b",
            "1936dfebd7c74fd5a372b93c036f7451",
            "3eed34be26e4458893467d6093446253",
            "2b6f619b00bc403eb2a3038ab7a81be2",
            "c1aea37e503e4263b0ce8c6ec105cbc6"
          ]
        },
        "id": "30e0d45c",
        "outputId": "18a64a20-04eb-42ef-8fbe-8e374ef80d0d",
        "cellView": "form"
      },
      "outputs": [
        {
          "output_type": "display_data",
          "data": {
            "text/plain": [
              "interactive(children=(SelectMultiple(description='Select Category:', options=('No Program Specified', 'Canadia…"
            ],
            "application/vnd.jupyter.widget-view+json": {
              "version_major": 2,
              "version_minor": 0,
              "model_id": "344da346458a4edd83c5a9124919b2a7"
            }
          },
          "metadata": {}
        }
      ],
      "source": [
        "# @title\n",
        "# Function to update the plot based on the selected category\n",
        "def update_plot(category):\n",
        "    filtered_data = result[result['category'].isin(category)]\n",
        "\n",
        "    # Plotting\n",
        "    fig, ax = plt.subplots(figsize=(20, 6))\n",
        "    for year in filtered_data['year'].unique():\n",
        "        subset = filtered_data[filtered_data['year'] == year]\n",
        "        x_vals = subset.apply(lambda row: pd.Timestamp(f\"{int(row['year'])}-{int(row['month']):02d}-01\"), axis=1)\n",
        "        ax.plot(x_vals, subset['value']['min'], marker='o', label=f'{year} (min)')\n",
        "        ax.plot(x_vals, subset['value']['max'], marker='o', label=f'{year} (max)')\n",
        "\n",
        "        # Annotate min values\n",
        "        for i, val in enumerate(subset['value']['min']):\n",
        "            ax.text(x_vals.iloc[i], val, f'{val}', ha='right', va='bottom')\n",
        "\n",
        "        # Annotate max values\n",
        "        for i, val in enumerate(subset['value']['max']):\n",
        "            ax.text(x_vals.iloc[i], val, f'{val}', ha='left', va='top')\n",
        "\n",
        "    # Customize labels and legend\n",
        "    ax.set_xlabel('Date')\n",
        "    ax.set_ylabel('value')\n",
        "    ax.set_title(f'Minimum and Maximum Values for Category {category}')\n",
        "    ax.legend()\n",
        "    plt.tight_layout()\n",
        "    plt.show()\n",
        "\n",
        "# Display the dropdown and plot\n",
        "# display(dropdown_category)\n",
        "widgets.interactive(update_plot, category=dropdown_category)\n"
      ]
    },
    {
      "cell_type": "code",
      "execution_count": null,
      "id": "e9dd2d3f",
      "metadata": {
        "id": "e9dd2d3f"
      },
      "outputs": [],
      "source": []
    }
  ],
  "metadata": {
    "kernelspec": {
      "display_name": "Python 3 (ipykernel)",
      "language": "python",
      "name": "python3"
    },
    "language_info": {
      "codemirror_mode": {
        "name": "ipython",
        "version": 3
      },
      "file_extension": ".py",
      "mimetype": "text/x-python",
      "name": "python",
      "nbconvert_exporter": "python",
      "pygments_lexer": "ipython3",
      "version": "3.9.13"
    },
    "colab": {
      "provenance": [],
      "include_colab_link": true
    },
    "widgets": {
      "application/vnd.jupyter.widget-state+json": {
        "344da346458a4edd83c5a9124919b2a7": {
          "model_module": "@jupyter-widgets/controls",
          "model_name": "VBoxModel",
          "model_module_version": "1.5.0",
          "state": {
            "_dom_classes": [
              "widget-interact"
            ],
            "_model_module": "@jupyter-widgets/controls",
            "_model_module_version": "1.5.0",
            "_model_name": "VBoxModel",
            "_view_count": null,
            "_view_module": "@jupyter-widgets/controls",
            "_view_module_version": "1.5.0",
            "_view_name": "VBoxView",
            "box_style": "",
            "children": [
              "IPY_MODEL_f5375a7dfc3a4352bd1a9008ce7d121c",
              "IPY_MODEL_b5e89a9dd18b48928cb9cc88e355bc4b"
            ],
            "layout": "IPY_MODEL_1936dfebd7c74fd5a372b93c036f7451"
          }
        },
        "f5375a7dfc3a4352bd1a9008ce7d121c": {
          "model_module": "@jupyter-widgets/controls",
          "model_name": "SelectMultipleModel",
          "model_module_version": "1.5.0",
          "state": {
            "_dom_classes": [],
            "_model_module": "@jupyter-widgets/controls",
            "_model_module_version": "1.5.0",
            "_model_name": "SelectMultipleModel",
            "_options_labels": [
              "No Program Specified",
              "Canadian Experience Class",
              "Provincial Nominee Program",
              "Federal Skilled Trades",
              "Federal Skilled Worker",
              "Healthcare occupations (2023-1)",
              "French language proficiency (2023-1)",
              "STEM occupations (2023-1)",
              "Trade occupations (2023-1)",
              "Agriculture and agri-food occupations (2023-1)",
              "Transport occupations (2023-1)",
              "General"
            ],
            "_view_count": null,
            "_view_module": "@jupyter-widgets/controls",
            "_view_module_version": "1.5.0",
            "_view_name": "SelectMultipleView",
            "description": "Select Category:",
            "description_tooltip": null,
            "disabled": false,
            "index": [
              1
            ],
            "layout": "IPY_MODEL_3eed34be26e4458893467d6093446253",
            "rows": 5,
            "style": "IPY_MODEL_2b6f619b00bc403eb2a3038ab7a81be2"
          }
        },
        "b5e89a9dd18b48928cb9cc88e355bc4b": {
          "model_module": "@jupyter-widgets/output",
          "model_name": "OutputModel",
          "model_module_version": "1.0.0",
          "state": {
            "_dom_classes": [],
            "_model_module": "@jupyter-widgets/output",
            "_model_module_version": "1.0.0",
            "_model_name": "OutputModel",
            "_view_count": null,
            "_view_module": "@jupyter-widgets/output",
            "_view_module_version": "1.0.0",
            "_view_name": "OutputView",
            "layout": "IPY_MODEL_c1aea37e503e4263b0ce8c6ec105cbc6",
            "msg_id": "",
            "outputs": [
              {
                "output_type": "display_data",
                "data": {
                  "text/plain": "<Figure size 2000x600 with 1 Axes>",
                  "image/png": "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\n"
                },
                "metadata": {}
              }
            ]
          }
        },
        "1936dfebd7c74fd5a372b93c036f7451": {
          "model_module": "@jupyter-widgets/base",
          "model_name": "LayoutModel",
          "model_module_version": "1.2.0",
          "state": {
            "_model_module": "@jupyter-widgets/base",
            "_model_module_version": "1.2.0",
            "_model_name": "LayoutModel",
            "_view_count": null,
            "_view_module": "@jupyter-widgets/base",
            "_view_module_version": "1.2.0",
            "_view_name": "LayoutView",
            "align_content": null,
            "align_items": null,
            "align_self": null,
            "border": null,
            "bottom": null,
            "display": null,
            "flex": null,
            "flex_flow": null,
            "grid_area": null,
            "grid_auto_columns": null,
            "grid_auto_flow": null,
            "grid_auto_rows": null,
            "grid_column": null,
            "grid_gap": null,
            "grid_row": null,
            "grid_template_areas": null,
            "grid_template_columns": null,
            "grid_template_rows": null,
            "height": null,
            "justify_content": null,
            "justify_items": null,
            "left": null,
            "margin": null,
            "max_height": null,
            "max_width": null,
            "min_height": null,
            "min_width": null,
            "object_fit": null,
            "object_position": null,
            "order": null,
            "overflow": null,
            "overflow_x": null,
            "overflow_y": null,
            "padding": null,
            "right": null,
            "top": null,
            "visibility": null,
            "width": null
          }
        },
        "3eed34be26e4458893467d6093446253": {
          "model_module": "@jupyter-widgets/base",
          "model_name": "LayoutModel",
          "model_module_version": "1.2.0",
          "state": {
            "_model_module": "@jupyter-widgets/base",
            "_model_module_version": "1.2.0",
            "_model_name": "LayoutModel",
            "_view_count": null,
            "_view_module": "@jupyter-widgets/base",
            "_view_module_version": "1.2.0",
            "_view_name": "LayoutView",
            "align_content": null,
            "align_items": null,
            "align_self": null,
            "border": null,
            "bottom": null,
            "display": null,
            "flex": null,
            "flex_flow": null,
            "grid_area": null,
            "grid_auto_columns": null,
            "grid_auto_flow": null,
            "grid_auto_rows": null,
            "grid_column": null,
            "grid_gap": null,
            "grid_row": null,
            "grid_template_areas": null,
            "grid_template_columns": null,
            "grid_template_rows": null,
            "height": null,
            "justify_content": null,
            "justify_items": null,
            "left": null,
            "margin": null,
            "max_height": null,
            "max_width": null,
            "min_height": null,
            "min_width": null,
            "object_fit": null,
            "object_position": null,
            "order": null,
            "overflow": null,
            "overflow_x": null,
            "overflow_y": null,
            "padding": null,
            "right": null,
            "top": null,
            "visibility": null,
            "width": null
          }
        },
        "2b6f619b00bc403eb2a3038ab7a81be2": {
          "model_module": "@jupyter-widgets/controls",
          "model_name": "DescriptionStyleModel",
          "model_module_version": "1.5.0",
          "state": {
            "_model_module": "@jupyter-widgets/controls",
            "_model_module_version": "1.5.0",
            "_model_name": "DescriptionStyleModel",
            "_view_count": null,
            "_view_module": "@jupyter-widgets/base",
            "_view_module_version": "1.2.0",
            "_view_name": "StyleView",
            "description_width": ""
          }
        },
        "c1aea37e503e4263b0ce8c6ec105cbc6": {
          "model_module": "@jupyter-widgets/base",
          "model_name": "LayoutModel",
          "model_module_version": "1.2.0",
          "state": {
            "_model_module": "@jupyter-widgets/base",
            "_model_module_version": "1.2.0",
            "_model_name": "LayoutModel",
            "_view_count": null,
            "_view_module": "@jupyter-widgets/base",
            "_view_module_version": "1.2.0",
            "_view_name": "LayoutView",
            "align_content": null,
            "align_items": null,
            "align_self": null,
            "border": null,
            "bottom": null,
            "display": null,
            "flex": null,
            "flex_flow": null,
            "grid_area": null,
            "grid_auto_columns": null,
            "grid_auto_flow": null,
            "grid_auto_rows": null,
            "grid_column": null,
            "grid_gap": null,
            "grid_row": null,
            "grid_template_areas": null,
            "grid_template_columns": null,
            "grid_template_rows": null,
            "height": null,
            "justify_content": null,
            "justify_items": null,
            "left": null,
            "margin": null,
            "max_height": null,
            "max_width": null,
            "min_height": null,
            "min_width": null,
            "object_fit": null,
            "object_position": null,
            "order": null,
            "overflow": null,
            "overflow_x": null,
            "overflow_y": null,
            "padding": null,
            "right": null,
            "top": null,
            "visibility": null,
            "width": null
          }
        }
      }
    }
  },
  "nbformat": 4,
  "nbformat_minor": 5
}